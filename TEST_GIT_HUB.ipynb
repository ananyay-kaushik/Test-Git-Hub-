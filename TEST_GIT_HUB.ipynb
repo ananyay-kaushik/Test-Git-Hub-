{
  "nbformat": 4,
  "nbformat_minor": 0,
  "metadata": {
    "colab": {
      "provenance": []
    },
    "kernelspec": {
      "name": "python3",
      "display_name": "Python 3"
    },
    "language_info": {
      "name": "python"
    }
  },
  "cells": [
    {
      "cell_type": "code",
      "execution_count": 1,
      "metadata": {
        "colab": {
          "base_uri": "https://localhost:8080/"
        },
        "id": "sSvTgxOsmnbe",
        "outputId": "d76aa8b3-163f-47b8-8ec6-933652ddedda"
      },
      "outputs": [
        {
          "output_type": "stream",
          "name": "stdout",
          "text": [
            "Simple Calculator\n",
            "Select operation:\n",
            "1. Add\n",
            "2. Subtract\n",
            "3. Multiply\n",
            "4. Divide\n",
            "Enter choice (1/2/3/4): 4\n",
            "Enter first number: 40\n",
            "Enter second number: 5\n",
            "40.0 / 5.0 = 8.0\n"
          ]
        }
      ],
      "source": [
        "# Simple Python Calculator\n",
        "\n",
        "def add(x, y):\n",
        "    return x + y\n",
        "\n",
        "def subtract(x, y):\n",
        "    return x - y\n",
        "\n",
        "def multiply(x, y):\n",
        "    return x * y\n",
        "\n",
        "def divide(x, y):\n",
        "    if y != 0:\n",
        "        return x / y\n",
        "    else:\n",
        "        return \"Error! Division by zero.\"\n",
        "\n",
        "def main():\n",
        "    print(\"Simple Calculator\")\n",
        "    print(\"Select operation:\")\n",
        "    print(\"1. Add\")\n",
        "    print(\"2. Subtract\")\n",
        "    print(\"3. Multiply\")\n",
        "    print(\"4. Divide\")\n",
        "\n",
        "    choice = input(\"Enter choice (1/2/3/4): \")\n",
        "\n",
        "    # Get input from the user\n",
        "    try:\n",
        "        num1 = float(input(\"Enter first number: \"))\n",
        "        num2 = float(input(\"Enter second number: \"))\n",
        "    except ValueError:\n",
        "        print(\"Invalid input! Please enter numeric values.\")\n",
        "        return\n",
        "\n",
        "    if choice == '1':\n",
        "        print(f\"{num1} + {num2} = {add(num1, num2)}\")\n",
        "    elif choice == '2':\n",
        "        print(f\"{num1} - {num2} = {subtract(num1, num2)}\")\n",
        "    elif choice == '3':\n",
        "        print(f\"{num1} * {num2} = {multiply(num1, num2)}\")\n",
        "    elif choice == '4':\n",
        "        print(f\"{num1} / {num2} = {divide(num1, num2)}\")\n",
        "    else:\n",
        "        print(\"Invalid input! Please choose a valid operation.\")\n",
        "\n",
        "if __name__ == \"__main__\":\n",
        "    main()\n"
      ]
    },
    {
      "cell_type": "code",
      "source": [],
      "metadata": {
        "id": "a2hvqZn1mzqc"
      },
      "execution_count": null,
      "outputs": []
    }
  ]
}